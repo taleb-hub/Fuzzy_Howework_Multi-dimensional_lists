{
 "cells": [
  {
   "cell_type": "markdown",
   "metadata": {},
   "source": [
    "# This repo for calcualtions in fuzzy numbers, I have two fuzzy sets: A and B. After applying 5 alfa cuts on those sets I get these numbers below, I wrote this code to get the results of multiplication and division automaticlly.\n",
    "### Note: Please see the last two code cells"
   ]
  },
  {
   "cell_type": "code",
   "execution_count": 1,
   "metadata": {},
   "outputs": [],
   "source": [
    "# two lists \n",
    "A = [(0.46, 1.51), (0.59, 1.41), (0.68, 1.32), (0.75, 1.26), (0.8, 1.2)]\n",
    "B = [(2.28, 3.83), (2.4, 3.71), (2.5, 3.61), (2.55, 3.55), (2.6, 3.5)]"
   ]
  },
  {
   "cell_type": "code",
   "execution_count": 2,
   "metadata": {},
   "outputs": [
    {
     "name": "stdout",
     "output_type": "stream",
     "text": [
      "(0.46, 1.51)\n",
      "(0.59, 1.41)\n",
      "(0.68, 1.32)\n",
      "(0.75, 1.26)\n",
      "(0.8, 1.2)\n"
     ]
    }
   ],
   "source": [
    "for i in A:\n",
    "    print(i)"
   ]
  },
  {
   "cell_type": "code",
   "execution_count": 53,
   "metadata": {},
   "outputs": [
    {
     "name": "stdout",
     "output_type": "stream",
     "text": [
      "0.46\n",
      "2.28\n",
      "----\n",
      "0.2017543859649123\n",
      "\n",
      "1.51\n",
      "2.28\n",
      "----\n",
      "0.662280701754386\n",
      "\n",
      "0.46\n",
      "3.83\n",
      "----\n",
      "0.12010443864229765\n",
      "\n",
      "1.51\n",
      "3.83\n",
      "----\n",
      "0.3942558746736292\n",
      "\n"
     ]
    }
   ],
   "source": [
    "for j in B[0]:\n",
    "    for i in A[0]:\n",
    "        print(i)\n",
    "        print(j)\n",
    "        print('----')\n",
    "        print((i/j))\n",
    "        print()\n",
    "    "
   ]
  },
  {
   "cell_type": "code",
   "execution_count": 44,
   "metadata": {},
   "outputs": [],
   "source": [
    "A = ((0.46, 1.51), (0.59, 1.41), (0.68, 1.32), (0.75, 1.26), (0.8, 1.2))\n",
    "B= ((2.28, 3.83), (2.4, 3.71), (2.5, 3.61), (2.55, 3.55), (2.6, 3.5))"
   ]
  },
  {
   "cell_type": "code",
   "execution_count": 119,
   "metadata": {},
   "outputs": [
    {
     "name": "stdout",
     "output_type": "stream",
     "text": [
      "0.46\n",
      "2.28\n",
      "----\n",
      "0.2017543859649123\n",
      "\n",
      "1.51\n",
      "2.28\n",
      "----\n",
      "0.662280701754386\n",
      "\n",
      "0.46\n",
      "3.83\n",
      "----\n",
      "0.12010443864229765\n",
      "\n",
      "1.51\n",
      "3.83\n",
      "----\n",
      "0.3942558746736292\n",
      "\n"
     ]
    }
   ],
   "source": [
    "for j in B[0]:\n",
    "    for i in A[0]:\n",
    "        print(i)\n",
    "        print(j)\n",
    "        print('----')\n",
    "        print((i/j))\n",
    "        print()\n",
    "    "
   ]
  },
  {
   "cell_type": "code",
   "execution_count": 52,
   "metadata": {},
   "outputs": [
    {
     "name": "stdout",
     "output_type": "stream",
     "text": [
      "0.46\n",
      "1.51\n",
      "\n",
      "0.59\n",
      "1.41\n",
      "\n",
      "0.68\n",
      "1.32\n",
      "\n",
      "0.75\n",
      "1.26\n",
      "\n",
      "0.8\n",
      "1.2\n",
      "\n"
     ]
    }
   ],
   "source": [
    "for row in A:\n",
    "    for item in row:\n",
    "        print(item)\n",
    "    print()"
   ]
  },
  {
   "cell_type": "code",
   "execution_count": 125,
   "metadata": {
    "scrolled": false
   },
   "outputs": [
    {
     "ename": "TypeError",
     "evalue": "'float' object is not subscriptable",
     "output_type": "error",
     "traceback": [
      "\u001b[1;31m---------------------------------------------------------------------------\u001b[0m",
      "\u001b[1;31mTypeError\u001b[0m                                 Traceback (most recent call last)",
      "\u001b[1;32m<ipython-input-125-9ec834ca0702>\u001b[0m in \u001b[0;36m<module>\u001b[1;34m\u001b[0m\n\u001b[0;32m      5\u001b[0m         \u001b[1;32mfor\u001b[0m \u001b[0mb\u001b[0m \u001b[1;32min\u001b[0m \u001b[0mB\u001b[0m\u001b[1;33m:\u001b[0m\u001b[1;33m\u001b[0m\u001b[1;33m\u001b[0m\u001b[0m\n\u001b[0;32m      6\u001b[0m             \u001b[1;32mfor\u001b[0m \u001b[0mm\u001b[0m \u001b[1;32min\u001b[0m \u001b[0mb\u001b[0m\u001b[1;33m:\u001b[0m\u001b[1;33m\u001b[0m\u001b[1;33m\u001b[0m\u001b[0m\n\u001b[1;32m----> 7\u001b[1;33m                 \u001b[0mtemp\u001b[0m \u001b[1;33m=\u001b[0m \u001b[0mn\u001b[0m\u001b[1;33m[\u001b[0m\u001b[1;36m0\u001b[0m\u001b[1;33m]\u001b[0m\u001b[1;33m*\u001b[0m\u001b[0mm\u001b[0m\u001b[1;33m[\u001b[0m\u001b[1;36m0\u001b[0m\u001b[1;33m]\u001b[0m\u001b[1;33m\u001b[0m\u001b[1;33m\u001b[0m\u001b[0m\n\u001b[0m\u001b[0;32m      8\u001b[0m                 \u001b[0mprint\u001b[0m\u001b[1;33m(\u001b[0m\u001b[0mtemp\u001b[0m\u001b[1;33m)\u001b[0m\u001b[1;33m\u001b[0m\u001b[1;33m\u001b[0m\u001b[0m\n",
      "\u001b[1;31mTypeError\u001b[0m: 'float' object is not subscriptable"
     ]
    }
   ],
   "source": [
    "A = [(0.46, 1.51), (0.59, 1.41), (0.68, 1.32), (0.75, 1.26), (0.8, 1.2)]\n",
    "B= [(2.28, 3.83), (2.4, 3.71), (2.5, 3.61), (2.55, 3.55), (2.6, 3.5)]\n",
    "for i in A:\n",
    "    for n in i:\n",
    "        for b in B:\n",
    "            for m in b:\n",
    "                temp = n[0]*m[0]\n",
    "                print(temp)"
   ]
  },
  {
   "cell_type": "code",
   "execution_count": 117,
   "metadata": {},
   "outputs": [
    {
     "ename": "TypeError",
     "evalue": "list indices must be integers or slices, not tuple",
     "output_type": "error",
     "traceback": [
      "\u001b[1;31m---------------------------------------------------------------------------\u001b[0m",
      "\u001b[1;31mTypeError\u001b[0m                                 Traceback (most recent call last)",
      "\u001b[1;32m<ipython-input-117-1c0fc7c7fd07>\u001b[0m in \u001b[0;36m<module>\u001b[1;34m\u001b[0m\n\u001b[0;32m      5\u001b[0m         \u001b[1;32mfor\u001b[0m \u001b[0mk\u001b[0m \u001b[1;32min\u001b[0m \u001b[0mB\u001b[0m\u001b[1;33m:\u001b[0m\u001b[1;33m\u001b[0m\u001b[1;33m\u001b[0m\u001b[0m\n\u001b[0;32m      6\u001b[0m             \u001b[1;32mfor\u001b[0m \u001b[0md\u001b[0m \u001b[1;32min\u001b[0m \u001b[0mk\u001b[0m\u001b[1;33m:\u001b[0m\u001b[1;33m\u001b[0m\u001b[1;33m\u001b[0m\u001b[0m\n\u001b[1;32m----> 7\u001b[1;33m                 \u001b[0mprint\u001b[0m\u001b[1;33m(\u001b[0m\u001b[0mB\u001b[0m\u001b[1;33m[\u001b[0m\u001b[0mk\u001b[0m\u001b[1;33m]\u001b[0m\u001b[1;33m)\u001b[0m\u001b[1;33m\u001b[0m\u001b[1;33m\u001b[0m\u001b[0m\n\u001b[0m",
      "\u001b[1;31mTypeError\u001b[0m: list indices must be integers or slices, not tuple"
     ]
    }
   ],
   "source": [
    "A = [(0.46, 1.51), (0.59, 1.41), (0.68, 1.32), (0.75, 1.26), (0.8, 1.2)]\n",
    "B= [(2.28, 3.83), (2.4, 3.71), (2.5, 3.61), (2.55, 3.55), (2.6, 3.5)]\n",
    "for i in A:\n",
    "    for n in i:\n",
    "        for k in B:\n",
    "            for d in k:\n",
    "                print(B[k])"
   ]
  },
  {
   "cell_type": "code",
   "execution_count": 60,
   "metadata": {},
   "outputs": [
    {
     "name": "stdout",
     "output_type": "stream",
     "text": [
      "0.46\n",
      "1.51\n",
      "0.59\n",
      "1.41\n",
      "0.68\n",
      "1.32\n",
      "0.75\n",
      "1.26\n",
      "0.8\n",
      "1.2\n"
     ]
    }
   ],
   "source": [
    "for i in A:\n",
    "    for n in i:\n",
    "        x = n\n",
    "        print(x)"
   ]
  },
  {
   "cell_type": "code",
   "execution_count": 61,
   "metadata": {},
   "outputs": [
    {
     "name": "stdout",
     "output_type": "stream",
     "text": [
      "2.28\n",
      "3.83\n",
      "2.4\n",
      "3.71\n",
      "2.5\n",
      "3.61\n",
      "2.55\n",
      "3.55\n",
      "2.6\n",
      "3.5\n"
     ]
    }
   ],
   "source": [
    "for j in B:\n",
    "    for m in j:\n",
    "        y= m\n",
    "        print(y)"
   ]
  },
  {
   "cell_type": "code",
   "execution_count": 78,
   "metadata": {},
   "outputs": [
    {
     "name": "stdout",
     "output_type": "stream",
     "text": [
      "(0.46, 1.51)\n",
      "(0.59, 1.41)\n",
      "(0.68, 1.32)\n",
      "(0.75, 1.26)\n",
      "(0.8, 1.2)\n",
      "\n",
      "(2.28, 3.83)\n",
      "(2.4, 3.71)\n",
      "(2.5, 3.61)\n",
      "(2.55, 3.55)\n",
      "(2.6, 3.5)\n",
      "\n",
      "0.8\n",
      "2.6\n",
      "0.3076923076923077\n",
      "\n",
      "0.8\n",
      "3.5\n",
      "0.2285714285714286\n",
      "\n",
      "1.2\n",
      "2.6\n",
      "0.4615384615384615\n",
      "\n",
      "1.2\n",
      "3.5\n",
      "0.34285714285714286\n",
      "\n"
     ]
    }
   ],
   "source": [
    "A = ((0.46, 1.51), (0.59, 1.41), (0.68, 1.32), (0.75, 1.26), (0.8, 1.2))\n",
    "B= ((2.28, 3.83), (2.4, 3.71), (2.5, 3.61), (2.55, 3.55), (2.6, 3.5))\n",
    "for k in A:\n",
    "    print(k)\n",
    "print()\n",
    "for l in B:\n",
    "    print(l)\n",
    "print()\n",
    "\n",
    "\n",
    "for i in k:\n",
    "    for j in l:\n",
    "        print(i)\n",
    "        print(j)\n",
    "        print(i/j)\n",
    "        print()"
   ]
  },
  {
   "cell_type": "code",
   "execution_count": 84,
   "metadata": {},
   "outputs": [
    {
     "name": "stdout",
     "output_type": "stream",
     "text": [
      "(0.46, 1.51)\n",
      "(2.28, 3.83)\n",
      "1.0488\n",
      "\n",
      "(0.46, 1.51)\n",
      "(2.4, 3.71)\n",
      "1.104\n",
      "\n",
      "(0.46, 1.51)\n",
      "(2.5, 3.61)\n",
      "1.1500000000000001\n",
      "\n",
      "(0.46, 1.51)\n",
      "(2.55, 3.55)\n",
      "1.173\n",
      "\n",
      "(0.46, 1.51)\n",
      "(2.6, 3.5)\n",
      "1.1960000000000002\n",
      "\n",
      "(0.59, 1.41)\n",
      "(2.28, 3.83)\n",
      "1.3451999999999997\n",
      "\n",
      "(0.59, 1.41)\n",
      "(2.4, 3.71)\n",
      "1.416\n",
      "\n",
      "(0.59, 1.41)\n",
      "(2.5, 3.61)\n",
      "1.4749999999999999\n",
      "\n",
      "(0.59, 1.41)\n",
      "(2.55, 3.55)\n",
      "1.5044999999999997\n",
      "\n",
      "(0.59, 1.41)\n",
      "(2.6, 3.5)\n",
      "1.534\n",
      "\n",
      "(0.68, 1.32)\n",
      "(2.28, 3.83)\n",
      "1.5504\n",
      "\n",
      "(0.68, 1.32)\n",
      "(2.4, 3.71)\n",
      "1.6320000000000001\n",
      "\n",
      "(0.68, 1.32)\n",
      "(2.5, 3.61)\n",
      "1.7000000000000002\n",
      "\n",
      "(0.68, 1.32)\n",
      "(2.55, 3.55)\n",
      "1.734\n",
      "\n",
      "(0.68, 1.32)\n",
      "(2.6, 3.5)\n",
      "1.7680000000000002\n",
      "\n",
      "(0.75, 1.26)\n",
      "(2.28, 3.83)\n",
      "1.71\n",
      "\n",
      "(0.75, 1.26)\n",
      "(2.4, 3.71)\n",
      "1.7999999999999998\n",
      "\n",
      "(0.75, 1.26)\n",
      "(2.5, 3.61)\n",
      "1.875\n",
      "\n",
      "(0.75, 1.26)\n",
      "(2.55, 3.55)\n",
      "1.9124999999999999\n",
      "\n",
      "(0.75, 1.26)\n",
      "(2.6, 3.5)\n",
      "1.9500000000000002\n",
      "\n",
      "(0.8, 1.2)\n",
      "(2.28, 3.83)\n",
      "1.8239999999999998\n",
      "\n",
      "(0.8, 1.2)\n",
      "(2.4, 3.71)\n",
      "1.92\n",
      "\n",
      "(0.8, 1.2)\n",
      "(2.5, 3.61)\n",
      "2.0\n",
      "\n",
      "(0.8, 1.2)\n",
      "(2.55, 3.55)\n",
      "2.04\n",
      "\n",
      "(0.8, 1.2)\n",
      "(2.6, 3.5)\n",
      "2.08\n",
      "\n"
     ]
    }
   ],
   "source": [
    "A = [(0.46, 1.51), (0.59, 1.41), (0.68, 1.32), (0.75, 1.26), (0.8, 1.2)]\n",
    "B= [(2.28, 3.83), (2.4, 3.71), (2.5, 3.61), (2.55, 3.55), (2.6, 3.5)]\n",
    "\n",
    "for i in A:\n",
    "    for j in B:\n",
    "        temp = i[0]*j[0]\n",
    "        print(i)\n",
    "        print(j)\n",
    "        print(temp)\n",
    "        print()"
   ]
  },
  {
   "cell_type": "code",
   "execution_count": 89,
   "metadata": {},
   "outputs": [
    {
     "name": "stdout",
     "output_type": "stream",
     "text": [
      "(0.46, 1.51)\n",
      "(0.46, 1.51, 0.59, 1.41)\n",
      "(0.46, 1.51, 0.59, 1.41, 0.68, 1.32)\n",
      "(0.46, 1.51, 0.59, 1.41, 0.68, 1.32, 0.75, 1.26)\n",
      "(0.46, 1.51, 0.59, 1.41, 0.68, 1.32, 0.75, 1.26, 0.8, 1.2)\n"
     ]
    }
   ],
   "source": [
    "A = [(0.46, 1.51), (0.59, 1.41), (0.68, 1.32), (0.75, 1.26), (0.8, 1.2)]\n",
    "B= [(2.28, 3.83), (2.4, 3.71), (2.5, 3.61), (2.55, 3.55), (2.6, 3.5)]\n",
    "\n",
    "a = ()\n",
    "for index in A:\n",
    "    a += index\n",
    "    print(a)\n",
    "    \n"
   ]
  },
  {
   "cell_type": "code",
   "execution_count": 90,
   "metadata": {
    "scrolled": true
   },
   "outputs": [
    {
     "name": "stdout",
     "output_type": "stream",
     "text": [
      "0.46\n",
      "1.51\n",
      "0.59\n",
      "1.41\n",
      "0.68\n",
      "1.32\n",
      "0.75\n",
      "1.26\n",
      "0.8\n",
      "1.2\n"
     ]
    }
   ],
   "source": [
    "for i in a:\n",
    "    print(i)"
   ]
  },
  {
   "cell_type": "code",
   "execution_count": 92,
   "metadata": {},
   "outputs": [
    {
     "data": {
      "text/plain": [
       "3.83"
      ]
     },
     "execution_count": 92,
     "metadata": {},
     "output_type": "execute_result"
    }
   ],
   "source": [
    "B[0][1]"
   ]
  },
  {
   "cell_type": "code",
   "execution_count": 145,
   "metadata": {},
   "outputs": [
    {
     "name": "stdout",
     "output_type": "stream",
     "text": [
      "0.46\n",
      "2.28\n",
      "1.0488\n",
      "\n",
      "0.46\n",
      "3.83\n",
      "1.7618\n",
      "\n",
      "1.51\n",
      "2.28\n",
      "3.4427999999999996\n",
      "\n",
      "1.51\n",
      "3.83\n",
      "5.7833000000000006\n",
      "\n",
      "0.59\n",
      "2.4\n",
      "1.416\n",
      "\n",
      "0.59\n",
      "3.71\n",
      "2.1889\n",
      "\n",
      "1.41\n",
      "2.4\n",
      "3.384\n",
      "\n",
      "1.41\n",
      "3.71\n",
      "5.2311\n",
      "\n",
      "0.68\n",
      "2.5\n",
      "1.7000000000000002\n",
      "\n",
      "0.68\n",
      "3.61\n",
      "2.4548\n",
      "\n",
      "1.32\n",
      "2.5\n",
      "3.3000000000000003\n",
      "\n",
      "1.32\n",
      "3.61\n",
      "4.7652\n",
      "\n",
      "0.75\n",
      "2.55\n",
      "1.9124999999999999\n",
      "\n",
      "0.75\n",
      "3.55\n",
      "2.6624999999999996\n",
      "\n",
      "1.26\n",
      "2.55\n",
      "3.2129999999999996\n",
      "\n",
      "1.26\n",
      "3.55\n",
      "4.473\n",
      "\n",
      "0.8\n",
      "2.6\n",
      "2.08\n",
      "\n",
      "0.8\n",
      "3.5\n",
      "2.8000000000000003\n",
      "\n",
      "1.2\n",
      "2.6\n",
      "3.12\n",
      "\n",
      "1.2\n",
      "3.5\n",
      "4.2\n",
      "\n"
     ]
    }
   ],
   "source": [
    "# Multiplication\n",
    "A = [(0.46, 1.51), (0.59, 1.41), (0.68, 1.32), (0.75, 1.26), (0.8, 1.2)]\n",
    "B= [(2.28, 3.83), (2.4, 3.71), (2.5, 3.61), (2.55, 3.55), (2.6, 3.5)]\n",
    "for i in range(5):\n",
    "    for j in A[i]:\n",
    "        for z in range(2):\n",
    "            x = j*B[i][z]\n",
    "            print(j)\n",
    "            print(B[i][z])\n",
    "            print(x)\n",
    "            print()"
   ]
  },
  {
   "cell_type": "code",
   "execution_count": 146,
   "metadata": {},
   "outputs": [
    {
     "name": "stdout",
     "output_type": "stream",
     "text": [
      "0.46\n",
      "2.28\n",
      "0.2017543859649123\n",
      "\n",
      "0.46\n",
      "3.83\n",
      "0.12010443864229765\n",
      "\n",
      "1.51\n",
      "2.28\n",
      "0.662280701754386\n",
      "\n",
      "1.51\n",
      "3.83\n",
      "0.3942558746736292\n",
      "\n",
      "0.59\n",
      "2.4\n",
      "0.24583333333333332\n",
      "\n",
      "0.59\n",
      "3.71\n",
      "0.15902964959568733\n",
      "\n",
      "1.41\n",
      "2.4\n",
      "0.5875\n",
      "\n",
      "1.41\n",
      "3.71\n",
      "0.3800539083557951\n",
      "\n",
      "0.68\n",
      "2.5\n",
      "0.272\n",
      "\n",
      "0.68\n",
      "3.61\n",
      "0.18836565096952912\n",
      "\n",
      "1.32\n",
      "2.5\n",
      "0.528\n",
      "\n",
      "1.32\n",
      "3.61\n",
      "0.3656509695290859\n",
      "\n",
      "0.75\n",
      "2.55\n",
      "0.29411764705882354\n",
      "\n",
      "0.75\n",
      "3.55\n",
      "0.21126760563380284\n",
      "\n",
      "1.26\n",
      "2.55\n",
      "0.49411764705882355\n",
      "\n",
      "1.26\n",
      "3.55\n",
      "0.35492957746478876\n",
      "\n",
      "0.8\n",
      "2.6\n",
      "0.3076923076923077\n",
      "\n",
      "0.8\n",
      "3.5\n",
      "0.2285714285714286\n",
      "\n",
      "1.2\n",
      "2.6\n",
      "0.4615384615384615\n",
      "\n",
      "1.2\n",
      "3.5\n",
      "0.34285714285714286\n",
      "\n"
     ]
    }
   ],
   "source": [
    "# Division\n",
    "A = [(0.46, 1.51), (0.59, 1.41), (0.68, 1.32), (0.75, 1.26), (0.8, 1.2)]\n",
    "B= [(2.28, 3.83), (2.4, 3.71), (2.5, 3.61), (2.55, 3.55), (2.6, 3.5)]\n",
    "for i in range(5):\n",
    "    for j in A[i]:\n",
    "        for z in range(2):\n",
    "            x = j/B[i][z]\n",
    "            print(j)\n",
    "            print(B[i][z])\n",
    "            print(x)\n",
    "            print()"
   ]
  },
  {
   "cell_type": "code",
   "execution_count": null,
   "metadata": {},
   "outputs": [],
   "source": []
  }
 ],
 "metadata": {
  "kernelspec": {
   "display_name": "Python 3",
   "language": "python",
   "name": "python3"
  },
  "language_info": {
   "codemirror_mode": {
    "name": "ipython",
    "version": 3
   },
   "file_extension": ".py",
   "mimetype": "text/x-python",
   "name": "python",
   "nbconvert_exporter": "python",
   "pygments_lexer": "ipython3",
   "version": "3.8.5"
  }
 },
 "nbformat": 4,
 "nbformat_minor": 4
}
